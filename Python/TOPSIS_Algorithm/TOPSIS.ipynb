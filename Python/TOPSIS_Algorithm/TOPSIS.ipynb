{
 "cells": [
  {
   "cell_type": "markdown",
   "metadata": {},
   "source": [
    "## TOPSIS in Python \n",
    "### Decision Analysis Example"
   ]
  },
  {
   "cell_type": "code",
   "execution_count": 98,
   "metadata": {
    "collapsed": false
   },
   "outputs": [
    {
     "name": "stdout",
     "output_type": "stream",
     "text": [
      "Original Decision Matrix: \n",
      "           Culture  Potential  Pay\n",
      "Apple            3          5   20\n",
      "Google           3          4   29\n",
      "Microsoft        2          3   41\n",
      "('Positive Ideal: ', [0.6396021490668313, 0.7071067811865475, 0.7584793317198122])\n",
      "('Negative Ideal: ', [0.42640143271122083, 0.4242640687119285, 0.3699899179121035])\n",
      "Ranked Decision Matrix\n"
     ]
    },
    {
     "data": {
      "text/html": [
       "<div>\n",
       "<style>\n",
       "    .dataframe thead tr:only-child th {\n",
       "        text-align: right;\n",
       "    }\n",
       "\n",
       "    .dataframe thead th {\n",
       "        text-align: left;\n",
       "    }\n",
       "\n",
       "    .dataframe tbody tr th {\n",
       "        vertical-align: top;\n",
       "    }\n",
       "</style>\n",
       "<table border=\"1\" class=\"dataframe\">\n",
       "  <thead>\n",
       "    <tr style=\"text-align: right;\">\n",
       "      <th></th>\n",
       "      <th>Culture</th>\n",
       "      <th>Potential</th>\n",
       "      <th>Pay</th>\n",
       "      <th>s_best</th>\n",
       "      <th>s_worst</th>\n",
       "      <th>Similarity</th>\n",
       "    </tr>\n",
       "  </thead>\n",
       "  <tbody>\n",
       "    <tr>\n",
       "      <th>Google</th>\n",
       "      <td>0.639602</td>\n",
       "      <td>0.565685</td>\n",
       "      <td>0.536485</td>\n",
       "      <td>0.069281</td>\n",
       "      <td>0.093175</td>\n",
       "      <td>0.573540</td>\n",
       "    </tr>\n",
       "    <tr>\n",
       "      <th>Microsoft</th>\n",
       "      <td>0.426401</td>\n",
       "      <td>0.424264</td>\n",
       "      <td>0.758479</td>\n",
       "      <td>0.125455</td>\n",
       "      <td>0.150924</td>\n",
       "      <td>0.546077</td>\n",
       "    </tr>\n",
       "    <tr>\n",
       "      <th>Apple</th>\n",
       "      <td>0.639602</td>\n",
       "      <td>0.707107</td>\n",
       "      <td>0.369990</td>\n",
       "      <td>0.150924</td>\n",
       "      <td>0.125455</td>\n",
       "      <td>0.453923</td>\n",
       "    </tr>\n",
       "  </tbody>\n",
       "</table>\n",
       "</div>"
      ],
      "text/plain": [
       "            Culture  Potential       Pay    s_best   s_worst  Similarity\n",
       "Google     0.639602   0.565685  0.536485  0.069281  0.093175    0.573540\n",
       "Microsoft  0.426401   0.424264  0.758479  0.125455  0.150924    0.546077\n",
       "Apple      0.639602   0.707107  0.369990  0.150924  0.125455    0.453923"
      ]
     },
     "execution_count": 98,
     "metadata": {},
     "output_type": "execute_result"
    }
   ],
   "source": [
    "import numpy as np\n",
    "import pandas as pd\n",
    "import math\n",
    "from __future__ import division\n",
    "\n",
    "# Sample data\n",
    "dm = np.matrix([[3,5,20],[3,4,29],[2,3,41]])\n",
    "df = pd.DataFrame(dm, columns=[\"Culture\", \"Potential\", \"Pay\"], index=[\"Apple\", \"Google\", \"Microsoft\"])\n",
    "\n",
    "print(\"Original Decision Matrix: \")\n",
    "print df[[\"Culture\", \"Potential\", \"Pay\"]]\n",
    "\n",
    "# Note, if we have a cost attribute take its inverse to treat it as a benefit attribute.\n",
    "def normalize(col):\n",
    "    denominator = math.sqrt(sum([row**2 for row in col]))\n",
    "    col = [row/denominator for row in col]\n",
    "    return col\n",
    "        \n",
    "# Calculate positive and negative ideal\n",
    "df = df.apply(lambda col: normalize(col))\n",
    "best = df.apply(lambda col: max(col)).tolist()\n",
    "worst = df.apply(lambda col: min(col)).tolist()\n",
    "print(\"Positive Ideal: \", best)\n",
    "print(\"Negative Ideal: \", worst)\n",
    "\n",
    "# Calculate each alternative to the positive ideal and negative ideal (Euclidean distance)\n",
    "def sumsq(row):\n",
    "    return sum([r**2 for r in row])\n",
    "s_best = df.apply(lambda x:sumsq(x-best),axis=1)\n",
    "s_worst = df.apply(lambda x:sumsq(x-worst),axis=1)\n",
    "df[\"s_best\"] = s_best\n",
    "df[\"s_worst\"] = s_worst\n",
    "\n",
    "# Calculate similarities to positive ideal solution\n",
    "# Ci = s_worst / (s_best + s_worst)\n",
    "df[\"Similarity\"] = df[[\"s_best\", \"s_worst\"]].apply(lambda row: row[1]/ (row[0]+row[1]), axis=1) \n",
    "\n",
    "print(\"Ranked Decision Matrix\")\n",
    "df.sort_values(['Similarity'], ascending=[0])\n",
    "\n"
   ]
  },
  {
   "cell_type": "code",
   "execution_count": null,
   "metadata": {
    "collapsed": false
   },
   "outputs": [],
   "source": []
  },
  {
   "cell_type": "code",
   "execution_count": null,
   "metadata": {
    "collapsed": false
   },
   "outputs": [],
   "source": []
  },
  {
   "cell_type": "code",
   "execution_count": null,
   "metadata": {
    "collapsed": false
   },
   "outputs": [],
   "source": []
  },
  {
   "cell_type": "code",
   "execution_count": null,
   "metadata": {
    "collapsed": true
   },
   "outputs": [],
   "source": []
  }
 ],
 "metadata": {
  "kernelspec": {
   "display_name": "Python 2",
   "language": "python",
   "name": "python2"
  },
  "language_info": {
   "codemirror_mode": {
    "name": "ipython",
    "version": 2
   },
   "file_extension": ".py",
   "mimetype": "text/x-python",
   "name": "python",
   "nbconvert_exporter": "python",
   "pygments_lexer": "ipython2",
   "version": "2.7.10"
  }
 },
 "nbformat": 4,
 "nbformat_minor": 2
}
